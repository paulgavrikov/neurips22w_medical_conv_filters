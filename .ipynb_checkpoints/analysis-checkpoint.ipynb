{
 "cells": [
  {
   "cell_type": "code",
   "execution_count": null,
   "id": "7cdb6890-8c56-4899-b371-a6891370e9dc",
   "metadata": {},
   "outputs": [],
   "source": [
    "import h5py\n",
    "import matplotlib.pyplot as plt\n",
    "import numpy as np\n",
    "import pandas as pd\n",
    "import logging\n",
    "from matplotlib.colors import LinearSegmentedColormap\n",
    "from KDEpy import FFTKDE\n",
    "import matplotlib.gridspec as grid_spec\n",
    "from tqdm import tqdm\n",
    "import itertools\n",
    "import seaborn as sns\n",
    "import colorcet as cc\n",
    "import scipy"
   ]
  },
  {
   "cell_type": "code",
   "execution_count": null,
   "id": "2b917abc-cb71-4e23-8d22-ea59f523f8f1",
   "metadata": {},
   "outputs": [],
   "source": [
    "DATASET = ...  # e.g. \"/workspace/data/output/cvpr22/dataset.h5\""
   ]
  },
  {
   "cell_type": "code",
   "execution_count": null,
   "id": "d89876f7-e767-4dbd-955b-338a5d33383a",
   "metadata": {},
   "outputs": [],
   "source": [
    "df_meta = pd.read_hdf(DATASET, key=\"meta\")\n",
    "df_meta[\"Task\"] = df_meta[\"Task\"].apply(lambda s: \"Segmentation\" if \"Segmentation\" in s else s)  # v1.0.0 had unreliable labeling of Segmentation models, so we clean it\n",
    "\n",
    "logging.info(\"unfolding IDs\")\n",
    "df_meta[\"filter_ids\"] = df_meta[\"filter_ids\"].apply(lambda s: np.arange(int(s.split(\":\")[0]), 1 + int(s.split(\":\")[1])))"
   ]
  },
  {
   "cell_type": "code",
   "execution_count": null,
   "id": "ce78e1de-42c2-4861-8b37-816d2cb7c40b",
   "metadata": {},
   "outputs": [],
   "source": [
    "with h5py.File(DATASET, \"r\") as f:\n",
    "    filters = f[\"filters\"][:].reshape(-1, 9)"
   ]
  },
  {
   "cell_type": "code",
   "execution_count": null,
   "id": "4a681489-1819-4cb0-a4d5-f898754ee003",
   "metadata": {},
   "outputs": [],
   "source": [
    "# We have a preprocessed the scaling and SVD, but you can do this on demand\n",
    "\n",
    "with h5py.File(\"/workspace/data/output/cvpr22/transformed_filters.h5\", \"r\") as f:\n",
    "    filters_transformed = f[\"svd/maxscaled/transformed_fp32\"][:].reshape(-1, 9)"
   ]
  },
  {
   "cell_type": "code",
   "execution_count": null,
   "id": "4ee8b4b8-ce11-4218-a3e8-37124da63288",
   "metadata": {},
   "outputs": [],
   "source": [
    "df_meta.loc[df_meta.model == \"compnet_weights_sagittal_improvement_09_NITRC_IITmean_b0_256_12\", \"Visual Category\"] = \"medical mri\"\n",
    "\n",
    "df_meta.loc[df_meta.model == \"compnet_weights_axial_improvement_08_NITRC_IITmean_b0_256_12\", \"Training-Dataset\"] = \"nitrc_iitmean_b0/axial\"\n",
    "df_meta.loc[df_meta.model == \"compnet_weights_coronal_improvement_08_NITRC_IITmean_b0_256_12\", \"Training-Dataset\"] = \"nitrc_iitmean_b0/coronal\"\n",
    "df_meta.loc[df_meta.model == \"compnet_weights_sagittal_improvement_09_NITRC_IITmean_b0_256_12\", \"Training-Dataset\"] = \"nitrc_iitmean_b0/sagittal\"\n",
    "\n",
    "df_meta.loc[df_meta.model == \"torchxrayvision_densenet121_mimic_ch_11\", \"Training-Dataset\"] = \"mimic_cxr_ch\"\n",
    "df_meta.loc[df_meta.model == \"torchxrayvision_densenet121_mimic_nb_11\", \"Training-Dataset\"] = \"mimic_cxr_nb\"\n",
    "\n",
    "df_meta.loc[df_meta.model == \"torchxrayvision_resnet101_elastic_ae_padchest_nih_chexpert_mimic_nb_mimic_ch_11\", \"Training-Dataset\"] = \"Aggregated\"\n",
    "\n",
    "df_meta.loc[df_meta.model == \"torchxrayvision_resnet50_512_all_11\", \"Training-Dataset\"] = \"Aggregated\"\n",
    "\n",
    "df_meta.loc[df_meta.model == \"torchxrayvision_densenet121_all_11\", \"Training-Dataset\"] = \"Aggregated\"\n",
    "\n",
    "df_meta.loc[df_meta.model == \"torchxrayvision_densenet121_kaggle_11\", \"Training-Dataset\"] = \"Kaggle RSNA\"\n",
    "\n",
    "df_meta.loc[df_meta.model == \"unet_carvana_carvana_11\", \"Training-Dataset\"] = \"Kaggle Carvana\"\n",
    "\n",
    "df_meta.loc[df_meta.model == \"unet_lgg_mri_segmentation_11\", \"Training-Dataset\"] = \"Kaggle LGG\"\n",
    "\n",
    "\n",
    "df_medical_meta = df_meta[df_meta[\"Visual Category\"].str.contains(\"medical\")].copy()"
   ]
  },
  {
   "cell_type": "code",
   "execution_count": null,
   "id": "cf6bdac7-2bea-4128-b2df-736cdd0e314a",
   "metadata": {},
   "outputs": [],
   "source": [
    "df_medical_meta[[\"model\", \"Task\", \"Visual Category\", \"Training-Dataset\"]].groupby(\"model\").max()"
   ]
  },
  {
   "cell_type": "markdown",
   "id": "3eda193e-1310-47e6-95dc-32550521ecaa",
   "metadata": {},
   "source": [
    "### Generate filter visualizations"
   ]
  },
  {
   "cell_type": "code",
   "execution_count": null,
   "id": "09bb113b-9f40-4a79-b9d6-ba967925b745",
   "metadata": {},
   "outputs": [],
   "source": [
    "def hide_border(ax):\n",
    "    ax.spines['bottom'].set_visible(False)\n",
    "    ax.spines['top'].set_visible(False) \n",
    "    ax.spines['right'].set_visible(False)\n",
    "    ax.spines['left'].set_visible(False)\n",
    "    ax.xaxis.set_major_locator(plt.NullLocator())\n",
    "    ax.yaxis.set_major_locator(plt.NullLocator())\n",
    "    ax.imshow(np.zeros((1,1,3)))\n",
    "\n",
    "ids = df_medical_meta[df_medical_meta.model == \"compnet_weights_sagittal_improvement_09_NITRC_IITmean_b0_256_12\"].iloc[48].filter_ids[:25]\n",
    "subfilters = filters[ids]\n",
    "t = abs(subfilters).max()\n",
    "fig, axes = plt.subplots(5, 5, figsize=(3, 3), squeeze=False)\n",
    "for f, ax in zip(subfilters, axes.ravel()):\n",
    "    hide_border(ax)\n",
    "    ax.imshow(f.reshape(3, 3), vmin=-t, vmax=t, cmap=LinearSegmentedColormap.from_list(\"CyanOrange\", [\"C0\", \"white\", \"C1\"]))\n",
    "\n",
    "plt.savefig(f\"plots/compnet_binary.pdf\", bbox_inches='tight')"
   ]
  },
  {
   "cell_type": "markdown",
   "id": "db624ec6-25ee-41da-b8de-9f9669c8f551",
   "metadata": {},
   "source": [
    " ## KDE plots"
   ]
  },
  {
   "cell_type": "code",
   "execution_count": null,
   "id": "0e147768-358e-4682-907f-f7f59b7dd241",
   "metadata": {},
   "outputs": [],
   "source": [
    "def ridge_plot(X, xrange, shape, row_labels=None, col_labels=None, figsize=(40, 10)):\n",
    "    gs = grid_spec.GridSpec(*shape)\n",
    "    fig = plt.figure(figsize=figsize)\n",
    "\n",
    "    ax_objs = []\n",
    "    for i in tqdm(range(shape[0])):\n",
    "        for j in range(shape[1]):\n",
    "\n",
    "            data = X[i][j]\n",
    "            dx, dy = FFTKDE(kernel=\"gaussian\", bw='silverman').fit(data).evaluate()\n",
    "\n",
    "            color = f\"C{i%10}\"\n",
    "\n",
    "            # creating new axes object\n",
    "            ax_objs.append(fig.add_subplot(gs[i:i+1, j:j+1]))\n",
    "\n",
    "            # plotting the distribution\n",
    "            ax_objs[-1].plot(dx, dy, color=\"#f0f0f0\", lw=1)\n",
    "            ax_objs[-1].fill_between(dx, dy, alpha=.7, color=color)\n",
    "\n",
    "            # setting uniform x and y lims\n",
    "            ax_objs[-1].set_xlim(*xrange)\n",
    "\n",
    "            # make background transparent\n",
    "            ax_objs[-1].patch.set_alpha(0)\n",
    "\n",
    "            # remove borders, axis ticks, and labels\n",
    "            ax_objs[-1].set_yticklabels([])\n",
    "            ax_objs[-1].set_yticks([])\n",
    "            ax_objs[-1].set_ylim([0, None])\n",
    "\n",
    "            for s in [\"top\", \"right\", \"left\", \"bottom\"]:\n",
    "                ax_objs[-1].spines[s].set_visible(False)\n",
    "\n",
    "            if i == shape[0] - 1:\n",
    "                ax_objs[-1].tick_params(direction=\"inout\")\n",
    "                ax_objs[-1].spines[\"bottom\"].set_visible(True)\n",
    "\n",
    "                if col_labels is not None:\n",
    "                    ax_objs[-1].set_xlabel(col_labels[j])\n",
    "            else:\n",
    "                ax_objs[-1].set_xticks([])\n",
    "                ax_objs[-1].set_xticklabels([])\n",
    "\n",
    "            if j == 0 and row_labels is not None:\n",
    "                label = row_labels[i]\n",
    "                max_len = 35\n",
    "                if len(label) > max_len:\n",
    "                    label = f\"{label[:max_len]} ...\"\n",
    "                ax_objs[-1].text(xrange[0] - 0.1, 0, label, ha=\"right\", wrap=True, color=color)\n",
    "\n",
    "    gs.update(hspace=-0.5)"
   ]
  },
  {
   "cell_type": "code",
   "execution_count": null,
   "id": "6bbfc349-444c-4d81-8109-3fc0f134a60b",
   "metadata": {},
   "outputs": [],
   "source": [
    "x_range = (-3, 3)\n",
    "\n",
    "col_labels = []\n",
    "\n",
    "for i in range(9):\n",
    "    ind = divmod(i, 3)\n",
    "    ind = str(ind[0])+str(ind[1])\n",
    "    col_labels.append(\"$c_{\"+ind+\"}$\")"
   ]
  },
  {
   "cell_type": "code",
   "execution_count": null,
   "id": "f87582eb-9ff5-4d98-97ec-f553f8086461",
   "metadata": {},
   "outputs": [],
   "source": [
    "datatype_distributions = df_medical_meta.groupby(\"model\").filter_ids.apply(lambda x: filters_transformed[np.hstack(x)].T)\n",
    "\n",
    "figsize=(18, 1 + 0.25 * len(datatype_distributions))\n",
    "ridge_plot(datatype_distributions.values, xrange=x_range, \n",
    "           shape=(len(datatype_distributions), 9), \n",
    "           row_labels=datatype_distributions.index, \n",
    "           col_labels=col_labels, \n",
    "           figsize=figsize)\n",
    "plt.subplots_adjust(hspace=0, wspace=0.1)\n",
    "plt.savefig(f\"plots/kdes_models.pdf\", bbox_inches='tight')"
   ]
  },
  {
   "cell_type": "markdown",
   "id": "444aaf3a-bd0b-4e1a-bea3-4bfcefa13cb0",
   "metadata": {},
   "source": [
    "## Sparsity of torchxrayvision_resnet50"
   ]
  },
  {
   "cell_type": "code",
   "execution_count": null,
   "id": "2a06e6ab-25b0-4642-bb60-e0f48416dc3b",
   "metadata": {},
   "outputs": [],
   "source": [
    "def sparsity(ids):\n",
    "    subset = filters[ids]\n",
    "    t = subset.max()\n",
    "    return (subset.max(axis=1) >= 0.01 * t).sum()\n",
    "\n",
    "np.sum([sparsity(f) for f in df_meta[df_meta.model == \"torchxrayvision_resnet50_512_all_11\"].filter_ids]), df_meta[df_meta.model == \"torchxrayvision_resnet50_512_all_11\"].filter_ids.apply(len).sum()"
   ]
  },
  {
   "cell_type": "markdown",
   "id": "d779dc4c-4964-4fea-9622-e497a5a9d0f1",
   "metadata": {},
   "source": [
    "## KL"
   ]
  },
  {
   "cell_type": "code",
   "execution_count": null,
   "id": "fd14e84b-56d4-4895-9fe5-5359dded51a0",
   "metadata": {},
   "outputs": [],
   "source": [
    "def kl_sym(p, q):\n",
    "    return scipy.stats.entropy(p, q) + scipy.stats.entropy(q, p)\n",
    "\n",
    "\n",
    "def nd_kl_sym(p, q, weights=None):\n",
    "    if type(p) is not list and len(p.shape) == 1:\n",
    "        return kl_sym(p, q)\n",
    "    else:\n",
    "        return np.sum(list(map(lambda i: weights[i] * kl_sym(p[i], q[i]), range(len(p)))))\n",
    "\n",
    "\n",
    "def get_kl(data, bins, x_range, weights):\n",
    "    p = get_nd_discrete_probability_distribution(data[0], x_range, bins)\n",
    "    q = get_nd_discrete_probability_distribution(data[1], x_range, bins)\n",
    "    return nd_kl_sym(p, q, weights)\n",
    "\n",
    "\n",
    "def get_discrete_probability_distribution(X, _range, bins):\n",
    "    v, _ = np.histogram(X, range=_range, bins=bins, density=True)  # density will not sum to 1 but help to not underflow eps during normalization\n",
    "    v = v.astype(np.double) \n",
    "    v[v == 0] = np.finfo(np.float32).eps\n",
    "    v = v / np.sum(v)\n",
    "    return v\n",
    "\n",
    "\n",
    "def get_nd_discrete_probability_distribution(X, _range, bins):\n",
    "    if type(X) is not list and len(X.shape) == 1:\n",
    "        return get_discrete_probability_distribution(X, _range, bins)\n",
    "    else:\n",
    "        dims = list()\n",
    "        for x in X:\n",
    "            v = get_discrete_probability_distribution(x, _range, bins)\n",
    "            dims.append(v)\n",
    "        return np.vstack(dims)\n",
    "\n",
    "\n",
    "def kl_plot(s, figsize=(10, 10), ax=None, sort=True, **kwargs):\n",
    "    created = False\n",
    "    if ax is None:\n",
    "        created = True\n",
    "        plt.figure(figsize=figsize)\n",
    "        ax = plt.gca()\n",
    "\n",
    "    img = get_kl_matrix(s.values, **kwargs)\n",
    "    labels = s.index\n",
    "    if sort:\n",
    "        sort_index = np.argsort(np.mean(img, axis=0))\n",
    "        img = img[sort_index][:, sort_index]\n",
    "        labels = labels[sort_index]\n",
    "\n",
    "    cim = ax.imshow(img, cmap=cc.cm[\"fire\"])\n",
    "    ax.set_xticks(range(len(s)))\n",
    "    ax.set_xticklabels(labels, rotation=90)\n",
    "    ax.set_yticks(range(len(s)))\n",
    "    ax.set_yticklabels(labels, rotation=0)\n",
    "\n",
    "    if created:\n",
    "        plt.colorbar(cim)\n",
    "\n",
    "    return ax, img\n",
    "\n",
    "\n",
    "def get_kl_matrix(data, bins, x_range, weights=None):\n",
    "    d = len(data)\n",
    "    kl_matrix = np.zeros((d, d))\n",
    "    lookup = dict()\n",
    "    for p, q in tqdm(itertools.product(range(d), repeat=2), total=d**2):\n",
    "        if p not in lookup:\n",
    "            lookup[p] = get_nd_discrete_probability_distribution(data[p], x_range, bins)\n",
    "        if q not in lookup:\n",
    "            lookup[q] = get_nd_discrete_probability_distribution(data[q], x_range, bins)\n",
    "        kl_matrix[p, q] = nd_kl_sym(lookup[p], lookup[q], weights=weights)\n",
    "    return kl_matrix"
   ]
  },
  {
   "cell_type": "code",
   "execution_count": null,
   "id": "d343e39d-68ad-4283-9e88-4957bc1802c3",
   "metadata": {},
   "outputs": [],
   "source": [
    "def dist(df):\n",
    "    distr_series = df.groupby(\"model\").agg({\n",
    "        \"filter_ids\": lambda x: [filters_transformed[np.hstack(x)].T],\n",
    "        \"Training-Dataset\": \"max\",\n",
    "        \"Visual Category\": \"max\"\n",
    "    })\n",
    "    distr_series.index = [f'{row[\"Training-Dataset\"]}\\n({row[\"Visual Category\"]})' for _, row in distr_series.iterrows()]\n",
    "    distr_series.filter_ids = distr_series.filter_ids.apply(lambda x: x[0])\n",
    "    ax, kl_m = kl_plot(distr_series.filter_ids, bins=70, x_range=x_range, weights=np.ones(9) / 9, sort=False)\n",
    "    return kl_m, distr_series.index\n",
    "\n",
    "\n",
    "combined_plot_labels = list()\n",
    "combined_plot_kl_mats = list()\n",
    "bins = 70\n",
    "\n",
    "for group in [df_meta[df_meta.model.str.contains(\"unet\")], df_meta[(df_meta.model.str.contains(\"densenet121\")) & ~(df_meta.model.str.contains(\"hso_\"))]]:\n",
    "    mat, labels = dist(group)\n",
    "    combined_plot_kl_mats.append(mat)\n",
    "    combined_plot_labels.append(labels)"
   ]
  },
  {
   "cell_type": "code",
   "execution_count": null,
   "id": "c3ec8c25-7b16-481b-89df-a147aab3ab8b",
   "metadata": {},
   "outputs": [],
   "source": [
    "fig, axes = plt.subplots(1, 2, figsize=(15, 6), facecolor=\"white\")\n",
    "\n",
    "titles = [\"UNet\", \"DenseNet121\"]\n",
    "\n",
    "for i, (ax, img, labels, title) in enumerate(zip(axes.ravel(), combined_plot_kl_mats, combined_plot_labels, titles)): \n",
    "    sort_index = np.array(range(len(img)))\n",
    "\n",
    "    cim = ax.imshow(img, vmin=0, vmax=0.5, cmap=cc.cm[\"fire\"])\n",
    "    ax.set_xticks(range(len(labels)))\n",
    "    ax.set_xticklabels(labels, rotation=90)\n",
    "    ax.set_yticks(range(len(labels)))\n",
    "    ax.set_yticklabels(labels, rotation=0)\n",
    "    ax.set_title(title, fontweight=\"bold\")\n",
    "    cbar = plt.colorbar(cim, pad=0.01, ax=ax)\n",
    "    cbar.set_label('KL Divergence', rotation=270, labelpad=20, fontweight=\"bold\")\n",
    "\n",
    "plt.tight_layout()\n",
    "plt.subplots_adjust(hspace=0, wspace=0)\n",
    "\n",
    "plt.savefig(\"plots/kl_combined.pdf\", bbox_inches='tight')"
   ]
  }
 ],
 "metadata": {
  "kernelspec": {
   "display_name": "convprops",
   "language": "python",
   "name": "convprops"
  },
  "language_info": {
   "codemirror_mode": {
    "name": "ipython",
    "version": 3
   },
   "file_extension": ".py",
   "mimetype": "text/x-python",
   "name": "python",
   "nbconvert_exporter": "python",
   "pygments_lexer": "ipython3",
   "version": "3.8.13"
  }
 },
 "nbformat": 4,
 "nbformat_minor": 5
}
